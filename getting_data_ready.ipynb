{
 "cells": [
  {
   "cell_type": "markdown",
   "metadata": {
    "colab_type": "text",
    "id": "view-in-github"
   },
   "source": [
    "<a href=\"https://colab.research.google.com/github/ffg-kom/mapping_evolution/blob/master/getting_data_ready.ipynb\" target=\"_parent\"><img src=\"https://colab.research.google.com/assets/colab-badge.svg\" alt=\"Open In Colab\"/></a>"
   ]
  },
  {
   "cell_type": "markdown",
   "metadata": {
    "colab_type": "text",
    "id": "b43wvy6RBNfq"
   },
   "source": [
    "# Imports"
   ]
  },
  {
   "cell_type": "markdown",
   "metadata": {
    "colab_type": "text",
    "id": "Tlp6A0TlB3rn"
   },
   "source": [
    "The following code was copied from https://colab.research.google.com/github/nestauk/im_tutorials/blob/master/notebooks/01_intro_to_pandas_tutorial.ipynb."
   ]
  },
  {
   "cell_type": "code",
   "execution_count": 1,
   "metadata": {
    "colab": {
     "base_uri": "https://localhost:8080/",
     "height": 221
    },
    "colab_type": "code",
    "id": "T1hId0fb7-XH",
    "outputId": "e6ef5d8d-6ebc-4389-c497-e58cb8a989fa"
   },
   "outputs": [
    {
     "name": "stdout",
     "output_type": "stream",
     "text": [
      "Collecting git+https://github.com/nestauk/im_tutorials.git\n",
      "  Cloning https://github.com/nestauk/im_tutorials.git to /tmp/pip-req-build-zc0h1xai\n",
      "  Running command git clone -q https://github.com/nestauk/im_tutorials.git /tmp/pip-req-build-zc0h1xai\n",
      "Building wheels for collected packages: im-tutorials\n",
      "  Building wheel for im-tutorials (setup.py) ... \u001b[?25l\u001b[?25hdone\n",
      "  Created wheel for im-tutorials: filename=im_tutorials-0.1.1-cp36-none-any.whl size=15103 sha256=92e91cad0eb6ee4addfa2387327c4dda423190d004e050088169dd06e70e0ce5\n",
      "  Stored in directory: /tmp/pip-ephem-wheel-cache-lp313cnr/wheels/47/a3/cb/bdc5f9ba49bcfd2c6864b166a1566eb2f104113bf0c3500330\n",
      "Successfully built im-tutorials\n",
      "Installing collected packages: im-tutorials\n",
      "Successfully installed im-tutorials-0.1.1\n"
     ]
    }
   ],
   "source": [
    "%load_ext autoreload\n",
    "%autoreload 2\n",
    "# install im_tutorial package\n",
    "!pip install git+https://github.com/nestauk/im_tutorials.git"
   ]
  },
  {
   "cell_type": "code",
   "execution_count": 0,
   "metadata": {
    "colab": {},
    "colab_type": "code",
    "id": "xr-zKnF5ByVZ"
   },
   "outputs": [],
   "source": [
    "# numpy for mathematical functions\n",
    "import numpy as np\n",
    "# pandas for handling tabular data\n",
    "import pandas as pd\n",
    "# explained later\n",
    "from im_tutorials.data.cordis import h2020_projects\n",
    "\n",
    "# for plotting\n",
    "import matplotlib.pyplot as plt\n",
    "\n",
    "# data\n",
    "from im_tutorials.data.cordis import cordis_table"
   ]
  },
  {
   "cell_type": "markdown",
   "metadata": {
    "colab_type": "text",
    "id": "gD7Wa-SFFDkb"
   },
   "source": [
    "# Loading data"
   ]
  },
  {
   "cell_type": "code",
   "execution_count": 76,
   "metadata": {
    "colab": {
     "base_uri": "https://localhost:8080/",
     "height": 306
    },
    "colab_type": "code",
    "id": "fLvnUgG5CXdf",
    "outputId": "c75d5a81-8a1a-4347-d821-cd9f4ecdd40d"
   },
   "outputs": [
    {
     "data": {
      "text/html": [
       "<div>\n",
       "<style scoped>\n",
       "    .dataframe tbody tr th:only-of-type {\n",
       "        vertical-align: middle;\n",
       "    }\n",
       "\n",
       "    .dataframe tbody tr th {\n",
       "        vertical-align: top;\n",
       "    }\n",
       "\n",
       "    .dataframe thead th {\n",
       "        text-align: right;\n",
       "    }\n",
       "</style>\n",
       "<table border=\"1\" class=\"dataframe\">\n",
       "  <thead>\n",
       "    <tr style=\"text-align: right;\">\n",
       "      <th></th>\n",
       "      <th>project_rcn</th>\n",
       "      <th>organization_id</th>\n",
       "      <th>activity_type</th>\n",
       "      <th>address</th>\n",
       "      <th>ec_contribution_organization</th>\n",
       "      <th>type</th>\n",
       "      <th>website_x</th>\n",
       "      <th>id</th>\n",
       "      <th>name</th>\n",
       "      <th>country_code</th>\n",
       "      <th>country_name</th>\n",
       "      <th>rcn</th>\n",
       "      <th>acronym</th>\n",
       "      <th>end_date_code</th>\n",
       "      <th>ec_contribution_project</th>\n",
       "      <th>framework</th>\n",
       "      <th>funding_scheme</th>\n",
       "      <th>funded_under</th>\n",
       "      <th>objective</th>\n",
       "      <th>project_description</th>\n",
       "      <th>start_date_code</th>\n",
       "      <th>status</th>\n",
       "      <th>title</th>\n",
       "      <th>total_cost_project</th>\n",
       "      <th>website_y</th>\n",
       "    </tr>\n",
       "  </thead>\n",
       "  <tbody>\n",
       "    <tr>\n",
       "      <th>0</th>\n",
       "      <td>85231</td>\n",
       "      <td>999635926</td>\n",
       "      <td>Other</td>\n",
       "      <td>{'city': 'TORINO', 'street': 'CORSO DUCA DEGLI...</td>\n",
       "      <td>306448</td>\n",
       "      <td>participant</td>\n",
       "      <td>www.corep.it</td>\n",
       "      <td>999635926</td>\n",
       "      <td>CONSORZIO PER LA RICERCA E L EDUCAZIONE PERMAN...</td>\n",
       "      <td>IT</td>\n",
       "      <td>Italy</td>\n",
       "      <td>85231</td>\n",
       "      <td>EuroTraining</td>\n",
       "      <td>2010-10-31</td>\n",
       "      <td>1398009</td>\n",
       "      <td>FP7</td>\n",
       "      <td>CSA - Coordination and support action</td>\n",
       "      <td>[{'rcn': '853', 'title': 'Specific Programme \"...</td>\n",
       "      <td>The objective of the EuroTraining proposal is ...</td>\n",
       "      <td>\\nNext-Generation Nanoelectronics Components a...</td>\n",
       "      <td>2007-11-01</td>\n",
       "      <td>CLOSED</td>\n",
       "      <td>Provision of a European training infrastructure</td>\n",
       "      <td>1398009</td>\n",
       "      <td>http://www.eurotraining.net/</td>\n",
       "    </tr>\n",
       "    <tr>\n",
       "      <th>1</th>\n",
       "      <td>85231</td>\n",
       "      <td>999665802</td>\n",
       "      <td>Private for-profit entities (excluding Higher ...</td>\n",
       "      <td>{'city': 'HOLTE', 'street': 'FREDERIKSLUNDSVEJ...</td>\n",
       "      <td>396542</td>\n",
       "      <td>coordinator</td>\n",
       "      <td></td>\n",
       "      <td>999665802</td>\n",
       "      <td>TECHNOCONSULT APS</td>\n",
       "      <td>DK</td>\n",
       "      <td>Denmark</td>\n",
       "      <td>85231</td>\n",
       "      <td>EuroTraining</td>\n",
       "      <td>2010-10-31</td>\n",
       "      <td>1398009</td>\n",
       "      <td>FP7</td>\n",
       "      <td>CSA - Coordination and support action</td>\n",
       "      <td>[{'rcn': '853', 'title': 'Specific Programme \"...</td>\n",
       "      <td>The objective of the EuroTraining proposal is ...</td>\n",
       "      <td>\\nNext-Generation Nanoelectronics Components a...</td>\n",
       "      <td>2007-11-01</td>\n",
       "      <td>CLOSED</td>\n",
       "      <td>Provision of a European training infrastructure</td>\n",
       "      <td>1398009</td>\n",
       "      <td>http://www.eurotraining.net/</td>\n",
       "    </tr>\n",
       "  </tbody>\n",
       "</table>\n",
       "</div>"
      ],
      "text/plain": [
       "   project_rcn  ...                     website_y\n",
       "0        85231  ...  http://www.eurotraining.net/\n",
       "1        85231  ...  http://www.eurotraining.net/\n",
       "\n",
       "[2 rows x 25 columns]"
      ]
     },
     "execution_count": 76,
     "metadata": {
      "tags": []
     },
     "output_type": "execute_result"
    }
   ],
   "source": [
    "# load tables\n",
    "cordis_o_df = cordis_table('organisations')\n",
    "cordis_p_df = cordis_table('projects')\n",
    "cordis_p_o_df = cordis_table('project_organisations')\n",
    "\n",
    "# merge them\n",
    "cordis_project_orgs_df = cordis_p_o_df.merge(\n",
    "  cordis_o_df, left_on='organization_id', right_on='id', how='left'\n",
    ")\n",
    "cordis_project_orgs_df = cordis_project_orgs_df.merge(\n",
    "  cordis_p_df, left_on='project_rcn', right_on='rcn', how='left'\n",
    ")\n",
    "\n",
    "cordis_project_orgs_df.rename( columns={'contribution': 'ec_contribution_organization'\n",
    "                                        , 'ec_contribution': 'ec_contribution_project'\n",
    "                                        , 'total_cost': 'total_cost_project'\n",
    "                                       }, inplace=True )\n",
    "\n",
    "cordis_project_orgs_df.head(2)"
   ]
  },
  {
   "cell_type": "code",
   "execution_count": 77,
   "metadata": {
    "colab": {
     "base_uri": "https://localhost:8080/",
     "height": 306
    },
    "colab_type": "code",
    "id": "4xAHZQ9MOd_E",
    "outputId": "8aaf0271-21b7-4bf0-c224-d20a74d366a8"
   },
   "outputs": [
    {
     "data": {
      "text/html": [
       "<div>\n",
       "<style scoped>\n",
       "    .dataframe tbody tr th:only-of-type {\n",
       "        vertical-align: middle;\n",
       "    }\n",
       "\n",
       "    .dataframe tbody tr th {\n",
       "        vertical-align: top;\n",
       "    }\n",
       "\n",
       "    .dataframe thead th {\n",
       "        text-align: right;\n",
       "    }\n",
       "</style>\n",
       "<table border=\"1\" class=\"dataframe\">\n",
       "  <thead>\n",
       "    <tr style=\"text-align: right;\">\n",
       "      <th></th>\n",
       "      <th>project_rcn</th>\n",
       "      <th>organization_id</th>\n",
       "      <th>activity_type</th>\n",
       "      <th>address</th>\n",
       "      <th>ec_contribution_organization</th>\n",
       "      <th>type</th>\n",
       "      <th>website_x</th>\n",
       "      <th>id</th>\n",
       "      <th>name</th>\n",
       "      <th>country_code</th>\n",
       "      <th>country_name</th>\n",
       "      <th>rcn</th>\n",
       "      <th>acronym</th>\n",
       "      <th>end_date_code</th>\n",
       "      <th>ec_contribution_project</th>\n",
       "      <th>framework</th>\n",
       "      <th>funding_scheme</th>\n",
       "      <th>funded_under</th>\n",
       "      <th>objective</th>\n",
       "      <th>project_description</th>\n",
       "      <th>start_date_code</th>\n",
       "      <th>status</th>\n",
       "      <th>title</th>\n",
       "      <th>total_cost_project</th>\n",
       "      <th>website_y</th>\n",
       "      <th>number_of_partners</th>\n",
       "    </tr>\n",
       "  </thead>\n",
       "  <tbody>\n",
       "    <tr>\n",
       "      <th>0</th>\n",
       "      <td>85231</td>\n",
       "      <td>999635926</td>\n",
       "      <td>Other</td>\n",
       "      <td>{'city': 'TORINO', 'street': 'CORSO DUCA DEGLI...</td>\n",
       "      <td>306448</td>\n",
       "      <td>participant</td>\n",
       "      <td>www.corep.it</td>\n",
       "      <td>999635926</td>\n",
       "      <td>CONSORZIO PER LA RICERCA E L EDUCAZIONE PERMAN...</td>\n",
       "      <td>IT</td>\n",
       "      <td>Italy</td>\n",
       "      <td>85231</td>\n",
       "      <td>EuroTraining</td>\n",
       "      <td>2010-10-31</td>\n",
       "      <td>1398009</td>\n",
       "      <td>FP7</td>\n",
       "      <td>CSA - Coordination and support action</td>\n",
       "      <td>[{'rcn': '853', 'title': 'Specific Programme \"...</td>\n",
       "      <td>The objective of the EuroTraining proposal is ...</td>\n",
       "      <td>\\nNext-Generation Nanoelectronics Components a...</td>\n",
       "      <td>2007-11-01</td>\n",
       "      <td>CLOSED</td>\n",
       "      <td>Provision of a European training infrastructure</td>\n",
       "      <td>1398009</td>\n",
       "      <td>http://www.eurotraining.net/</td>\n",
       "      <td>5</td>\n",
       "    </tr>\n",
       "    <tr>\n",
       "      <th>1</th>\n",
       "      <td>85231</td>\n",
       "      <td>999665802</td>\n",
       "      <td>Private for-profit entities (excluding Higher ...</td>\n",
       "      <td>{'city': 'HOLTE', 'street': 'FREDERIKSLUNDSVEJ...</td>\n",
       "      <td>396542</td>\n",
       "      <td>coordinator</td>\n",
       "      <td></td>\n",
       "      <td>999665802</td>\n",
       "      <td>TECHNOCONSULT APS</td>\n",
       "      <td>DK</td>\n",
       "      <td>Denmark</td>\n",
       "      <td>85231</td>\n",
       "      <td>EuroTraining</td>\n",
       "      <td>2010-10-31</td>\n",
       "      <td>1398009</td>\n",
       "      <td>FP7</td>\n",
       "      <td>CSA - Coordination and support action</td>\n",
       "      <td>[{'rcn': '853', 'title': 'Specific Programme \"...</td>\n",
       "      <td>The objective of the EuroTraining proposal is ...</td>\n",
       "      <td>\\nNext-Generation Nanoelectronics Components a...</td>\n",
       "      <td>2007-11-01</td>\n",
       "      <td>CLOSED</td>\n",
       "      <td>Provision of a European training infrastructure</td>\n",
       "      <td>1398009</td>\n",
       "      <td>http://www.eurotraining.net/</td>\n",
       "      <td>5</td>\n",
       "    </tr>\n",
       "  </tbody>\n",
       "</table>\n",
       "</div>"
      ],
      "text/plain": [
       "   project_rcn  ...  number_of_partners\n",
       "0        85231  ...                   5\n",
       "1        85231  ...                   5\n",
       "\n",
       "[2 rows x 26 columns]"
      ]
     },
     "execution_count": 77,
     "metadata": {
      "tags": []
     },
     "output_type": "execute_result"
    }
   ],
   "source": [
    "# add number of partners per project as a column\n",
    "count_partners_df = cordis_project_orgs_df[['project_rcn', 'organization_id']].groupby( by='project_rcn' ).count()\n",
    "count_partners_df.rename( columns={'organization_id': 'number_of_partners'}, inplace=True )\n",
    "\n",
    "cordis_project_orgs_df = cordis_project_orgs_df.merge(\n",
    "  count_partners_df, on='project_rcn', how='left'\n",
    ")\n",
    "\n",
    "# display header\n",
    "cordis_project_orgs_df.head(2)\n"
   ]
  },
  {
   "cell_type": "markdown",
   "metadata": {
    "colab_type": "text",
    "id": "1wVzLGfIFZJo"
   },
   "source": [
    "# Playing with the data"
   ]
  },
  {
   "cell_type": "code",
   "execution_count": 82,
   "metadata": {
    "colab": {
     "base_uri": "https://localhost:8080/",
     "height": 165
    },
    "colab_type": "code",
    "id": "qSpqE1TZGnL0",
    "outputId": "ac090c71-486d-4af9-b76a-8ece870cffbf"
   },
   "outputs": [
    {
     "data": {
      "text/plain": [
       "Index(['project_rcn', 'organization_id', 'activity_type', 'address',\n",
       "       'ec_contribution_organization', 'type', 'website_x', 'id', 'name',\n",
       "       'country_code', 'country_name', 'rcn', 'acronym', 'end_date_code',\n",
       "       'ec_contribution_project', 'framework', 'funding_scheme',\n",
       "       'funded_under', 'objective', 'project_description', 'start_date_code',\n",
       "       'status', 'title', 'total_cost_project', 'website_y',\n",
       "       'number_of_partners'],\n",
       "      dtype='object')"
      ]
     },
     "execution_count": 82,
     "metadata": {
      "tags": []
     },
     "output_type": "execute_result"
    }
   ],
   "source": [
    "cordis_project_orgs_df.columns"
   ]
  },
  {
   "cell_type": "code",
   "execution_count": 70,
   "metadata": {
    "colab": {
     "base_uri": "https://localhost:8080/",
     "height": 146
    },
    "colab_type": "code",
    "id": "agGlHcvZEJnQ",
    "outputId": "7b0310df-d477-470b-a789-dc23fdfd8f02"
   },
   "outputs": [
    {
     "data": {
      "text/plain": [
       "Higher or Secondary Education Establishments                                                         88335\n",
       "Private for-profit entities (excluding Higher or Secondary Education Establishments)                 78810\n",
       "Research Organisations                                                                               55099\n",
       "Other                                                                                                15406\n",
       "Public bodies (excluding Research Organisations and Secondary or Higher Education Establishments)    12454\n",
       "                                                                                                       936\n",
       "Name: activity_type, dtype: int64"
      ]
     },
     "execution_count": 70,
     "metadata": {
      "tags": []
     },
     "output_type": "execute_result"
    }
   ],
   "source": [
    "cordis_project_orgs_df['activity_type'].value_counts()"
   ]
  },
  {
   "cell_type": "code",
   "execution_count": 79,
   "metadata": {
    "colab": {
     "base_uri": "https://localhost:8080/",
     "height": 128
    },
    "colab_type": "code",
    "id": "5-R2gHIuHLIa",
    "outputId": "4ddb03f2-cc99-4056-db1b-5e0d3af4b6e6"
   },
   "outputs": [
    {
     "data": {
      "text/plain": [
       "999993856    148\n",
       "999960488     84\n",
       "999909854     79\n",
       "999951467     76\n",
       "999908787     73\n",
       "Name: organization_id, dtype: int64"
      ]
     },
     "execution_count": 79,
     "metadata": {
      "tags": []
     },
     "output_type": "execute_result"
    }
   ],
   "source": [
    "subset = cordis_project_orgs_df[\n",
    "    (cordis_project_orgs_df.activity_type == 'Private for-profit entities (excluding Higher or Secondary Education Establishments)')\n",
    "  & (cordis_project_orgs_df.framework == 'H2020')\n",
    "]\n",
    "\n",
    "# within subset, how often do organisations appear\n",
    "subset['organization_id'].value_counts().head()\n",
    "\n"
   ]
  },
  {
   "cell_type": "code",
   "execution_count": 83,
   "metadata": {
    "colab": {
     "base_uri": "https://localhost:8080/",
     "height": 293
    },
    "colab_type": "code",
    "id": "vqi_ZO1HKC4D",
    "outputId": "82ace567-54e2-4b60-8064-d53e44193c77"
   },
   "outputs": [
    {
     "data": {
      "text/html": [
       "<div>\n",
       "<style scoped>\n",
       "    .dataframe tbody tr th:only-of-type {\n",
       "        vertical-align: middle;\n",
       "    }\n",
       "\n",
       "    .dataframe tbody tr th {\n",
       "        vertical-align: top;\n",
       "    }\n",
       "\n",
       "    .dataframe thead th {\n",
       "        text-align: right;\n",
       "    }\n",
       "</style>\n",
       "<table border=\"1\" class=\"dataframe\">\n",
       "  <thead>\n",
       "    <tr style=\"text-align: right;\">\n",
       "      <th></th>\n",
       "      <th>organization_id</th>\n",
       "      <th>start_date_code</th>\n",
       "      <th>funding_scheme</th>\n",
       "      <th>number_of_partners</th>\n",
       "      <th>ec_contribution_organization</th>\n",
       "      <th>ec_contribution_project</th>\n",
       "      <th>total_cost_project</th>\n",
       "    </tr>\n",
       "  </thead>\n",
       "  <tbody>\n",
       "    <tr>\n",
       "      <th>135899</th>\n",
       "      <td>999905974</td>\n",
       "      <td>2014-01-01</td>\n",
       "      <td>CSA - Coordination and support action</td>\n",
       "      <td>1</td>\n",
       "      <td>230000</td>\n",
       "      <td>230000</td>\n",
       "      <td>230000</td>\n",
       "    </tr>\n",
       "    <tr>\n",
       "      <th>135943</th>\n",
       "      <td>999574428</td>\n",
       "      <td>2014-08-01</td>\n",
       "      <td>CSA - Coordination and support action</td>\n",
       "      <td>38</td>\n",
       "      <td>20000</td>\n",
       "      <td>5000000</td>\n",
       "      <td>5000000</td>\n",
       "    </tr>\n",
       "    <tr>\n",
       "      <th>135953</th>\n",
       "      <td>999940118</td>\n",
       "      <td>2014-08-01</td>\n",
       "      <td>CSA - Coordination and support action</td>\n",
       "      <td>38</td>\n",
       "      <td>35000</td>\n",
       "      <td>5000000</td>\n",
       "      <td>5000000</td>\n",
       "    </tr>\n",
       "    <tr>\n",
       "      <th>135972</th>\n",
       "      <td>984286452</td>\n",
       "      <td>2014-10-01</td>\n",
       "      <td>CSA - Coordination and support action</td>\n",
       "      <td>58</td>\n",
       "      <td>31608</td>\n",
       "      <td>6000000</td>\n",
       "      <td>6000000</td>\n",
       "    </tr>\n",
       "    <tr>\n",
       "      <th>135977</th>\n",
       "      <td>998142126</td>\n",
       "      <td>2014-10-01</td>\n",
       "      <td>CSA - Coordination and support action</td>\n",
       "      <td>58</td>\n",
       "      <td>551450</td>\n",
       "      <td>6000000</td>\n",
       "      <td>6000000</td>\n",
       "    </tr>\n",
       "  </tbody>\n",
       "</table>\n",
       "</div>"
      ],
      "text/plain": [
       "        organization_id  ... total_cost_project\n",
       "135899        999905974  ...             230000\n",
       "135943        999574428  ...            5000000\n",
       "135953        999940118  ...            5000000\n",
       "135972        984286452  ...            6000000\n",
       "135977        998142126  ...            6000000\n",
       "\n",
       "[5 rows x 7 columns]"
      ]
     },
     "execution_count": 83,
     "metadata": {
      "tags": []
     },
     "output_type": "execute_result"
    }
   ],
   "source": [
    "subset[['organization_id', 'start_date_code', 'funding_scheme', 'number_of_partners', 'ec_contribution_organization', 'ec_contribution_project', 'total_cost_project']].head()"
   ]
  }
 ],
 "metadata": {
  "colab": {
   "collapsed_sections": [
    "b43wvy6RBNfq"
   ],
   "include_colab_link": true,
   "name": "getting_data_ready.ipynb",
   "provenance": []
  },
  "kernelspec": {
   "display_name": "Python 3",
   "language": "python",
   "name": "python3"
  },
  "language_info": {
   "codemirror_mode": {
    "name": "ipython",
    "version": 3
   },
   "file_extension": ".py",
   "mimetype": "text/x-python",
   "name": "python",
   "nbconvert_exporter": "python",
   "pygments_lexer": "ipython3",
   "version": "3.6.8"
  }
 },
 "nbformat": 4,
 "nbformat_minor": 1
}
