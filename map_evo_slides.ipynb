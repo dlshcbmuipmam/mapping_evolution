{
 "cells": [
  {
   "cell_type": "markdown",
   "metadata": {
    "colab_type": "text",
    "id": "view-in-github"
   },
   "source": [
    "<a href=\"https://colab.research.google.com/github/ffg-kom/mapping_evolution/blob/master/map_evo_slides.ipynb\" target=\"_parent\"><img src=\"https://colab.research.google.com/assets/colab-badge.svg\" alt=\"Open In Colab\"/></a>"
   ]
  },
  {
   "cell_type": "markdown",
   "metadata": {
    "colab_type": "text",
    "id": "P3vtYpts2-tL"
   },
   "source": [
    "# Diary\n",
    "\n",
    "A short overview of our day-to-day progress."
   ]
  },
  {
   "cell_type": "markdown",
   "metadata": {
    "colab_type": "text",
    "id": "_L309Bas27KS"
   },
   "source": [
    "**Monday, Oct 21st**\n",
    "* forming a project team\n",
    "* refining (and narrowing down) the project idea\n",
    "* getting a git repository up and running\n"
   ]
  },
  {
   "cell_type": "markdown",
   "metadata": {
    "colab_type": "text",
    "id": "JB6k3c3Y4INj"
   },
   "source": [
    "**Tuesday, Oct 22nd**\n",
    "\n",
    "* first sketches of possible visualisations\n",
    "* assigning tasks"
   ]
  },
  {
   "cell_type": "markdown",
   "metadata": {
    "colab_type": "text",
    "id": "xvBi6pe545W6"
   },
   "source": [
    "# Decisions\n",
    "\n",
    "What we committed to along the way, and why we did it."
   ]
  },
  {
   "cell_type": "markdown",
   "metadata": {
    "colab_type": "text",
    "id": "2jP4epLH47dT"
   },
   "source": [
    "**Documentation in a notebook**\n",
    "\n",
    "\n",
    "**Final result of the project is a notebook**\n",
    "* easily usable and adaptable by others - so everyone gets the most out of it"
   ]
  },
  {
   "cell_type": "markdown",
   "metadata": {
    "colab_type": "text",
    "id": "z3Nz0yi63vuZ"
   },
   "source": [
    "# Tasks\n",
    "\n",
    "This is to keep up with our tasks and document on how everyone can contribute."
   ]
  },
  {
   "cell_type": "markdown",
   "metadata": {
    "colab_type": "text",
    "id": "xmd4ZSE1wtU0"
   },
   "source": [
    "**Tasks**\n",
    "\n",
    "* get data ready (Marvin)\n",
    "   * connect to the data\n",
    "   * define subset (private commercial, some programme...)\n",
    "   * getting data in right format for visualisation\n",
    "* look into visualisation tools (James)\n",
    "   * networks\n",
    "      * networkX\n",
    "      * GraphTool\n",
    "      * bokeh\n",
    "      * gephi\n",
    "   * sankey\n",
    "      * ???\n",
    "* assessing success of organisations (Adrian)\n",
    "   * machine learning?\n",
    "* structuring the repo apt for a data science project (???)\n",
    "   * https://drivendata.github.io/cookiecutter-data-science/\n",
    "\n"
   ]
  },
  {
   "cell_type": "markdown",
   "metadata": {
    "colab_type": "text",
    "id": "yZWeCwg-3eHJ"
   },
   "source": [
    "# Lessons learned\n"
   ]
  },
  {
   "cell_type": "markdown",
   "metadata": {
    "colab_type": "text",
    "id": "eVYLzhFJ4lNH"
   },
   "source": [
    "* Surprisingly much time runs into getting the collaboration infrastructure ready.\n"
   ]
  }
 ],
 "metadata": {
  "colab": {
   "collapsed_sections": [],
   "include_colab_link": true,
   "name": "map_evo_slides.ipynb",
   "provenance": []
  },
  "kernelspec": {
   "display_name": "Python 3",
   "language": "python",
   "name": "python3"
  },
  "language_info": {
   "codemirror_mode": {
    "name": "ipython",
    "version": 3
   },
   "file_extension": ".py",
   "mimetype": "text/x-python",
   "name": "python",
   "nbconvert_exporter": "python",
   "pygments_lexer": "ipython3",
   "version": "3.6.8"
  }
 },
 "nbformat": 4,
 "nbformat_minor": 1
}
